{
 "cells": [
  {
   "cell_type": "code",
   "execution_count": 1,
   "id": "3c6d78ab-bd1b-4a44-a27d-8b6768ddf7d1",
   "metadata": {},
   "outputs": [
    {
     "name": "stdout",
     "output_type": "stream",
     "text": [
      "/home/rj2357\n"
     ]
    }
   ],
   "source": [
    "!pwd"
   ]
  },
  {
   "cell_type": "code",
   "execution_count": 1,
   "id": "afebdfb3-cdbd-47a5-8337-64623e47a646",
   "metadata": {},
   "outputs": [
    {
     "name": "stdout",
     "output_type": "stream",
     "text": [
      "/scratch/rj2357/dls\n"
     ]
    },
    {
     "name": "stderr",
     "output_type": "stream",
     "text": [
      "/share/apps/pyenv/py3.9/lib/python3.9/site-packages/IPython/core/magics/osm.py:417: UserWarning: using dhist requires you to install the `pickleshare` library.\n",
      "  self.shell.db['dhist'] = compress_dhist(dhist)[-100:]\n"
     ]
    }
   ],
   "source": [
    "%cd /scratch/rj2357/dls"
   ]
  },
  {
   "cell_type": "code",
   "execution_count": 3,
   "id": "3a598bb1-0e84-4d42-aa53-aed2d0046187",
   "metadata": {},
   "outputs": [
    {
     "name": "stdout",
     "output_type": "stream",
     "text": [
      "/scratch/rj2357/dls\n"
     ]
    }
   ],
   "source": [
    "!pwd"
   ]
  },
  {
   "cell_type": "code",
   "execution_count": 8,
   "id": "1be06a72-7ab3-495a-a83e-75d5e0447711",
   "metadata": {},
   "outputs": [
    {
     "name": "stdout",
     "output_type": "stream",
     "text": [
      "Defaulting to user installation because normal site-packages is not writeable\n",
      "Collecting accelerate>=0.26.0\n",
      "  Using cached accelerate-1.2.1-py3-none-any.whl.metadata (19 kB)\n",
      "Requirement already satisfied: numpy<3.0.0,>=1.17 in /home/rj2357/.local/lib/python3.9/site-packages (from accelerate>=0.26.0) (2.0.2)\n",
      "Requirement already satisfied: packaging>=20.0 in /share/apps/pyenv/py3.9/lib/python3.9/site-packages (from accelerate>=0.26.0) (23.2)\n",
      "Requirement already satisfied: psutil in /share/apps/pyenv/py3.9/lib/python3.9/site-packages (from accelerate>=0.26.0) (5.9.8)\n",
      "Requirement already satisfied: pyyaml in /share/apps/pyenv/py3.9/lib/python3.9/site-packages (from accelerate>=0.26.0) (6.0.1)\n",
      "Requirement already satisfied: torch>=1.10.0 in /home/rj2357/.local/lib/python3.9/site-packages (from accelerate>=0.26.0) (2.5.1+cu118)\n",
      "Requirement already satisfied: huggingface-hub>=0.21.0 in /home/rj2357/.local/lib/python3.9/site-packages (from accelerate>=0.26.0) (0.26.5)\n",
      "Requirement already satisfied: safetensors>=0.4.3 in /home/rj2357/.local/lib/python3.9/site-packages (from accelerate>=0.26.0) (0.4.5)\n",
      "Requirement already satisfied: filelock in /home/rj2357/.local/lib/python3.9/site-packages (from huggingface-hub>=0.21.0->accelerate>=0.26.0) (3.13.1)\n",
      "Requirement already satisfied: fsspec>=2023.5.0 in /home/rj2357/.local/lib/python3.9/site-packages (from huggingface-hub>=0.21.0->accelerate>=0.26.0) (2024.2.0)\n",
      "Requirement already satisfied: requests in /home/rj2357/.local/lib/python3.9/site-packages (from huggingface-hub>=0.21.0->accelerate>=0.26.0) (2.32.3)\n",
      "Requirement already satisfied: tqdm>=4.42.1 in /share/apps/pyenv/py3.9/lib/python3.9/site-packages (from huggingface-hub>=0.21.0->accelerate>=0.26.0) (4.61.2)\n",
      "Requirement already satisfied: typing-extensions>=3.7.4.3 in /share/apps/pyenv/py3.9/lib/python3.9/site-packages (from huggingface-hub>=0.21.0->accelerate>=0.26.0) (4.9.0)\n",
      "Requirement already satisfied: networkx in /home/rj2357/.local/lib/python3.9/site-packages (from torch>=1.10.0->accelerate>=0.26.0) (3.2.1)\n",
      "Requirement already satisfied: jinja2 in /share/apps/pyenv/py3.9/lib/python3.9/site-packages (from torch>=1.10.0->accelerate>=0.26.0) (3.1.3)\n",
      "Requirement already satisfied: nvidia-cuda-nvrtc-cu11==11.8.89 in /home/rj2357/.local/lib/python3.9/site-packages (from torch>=1.10.0->accelerate>=0.26.0) (11.8.89)\n",
      "Requirement already satisfied: nvidia-cuda-runtime-cu11==11.8.89 in /home/rj2357/.local/lib/python3.9/site-packages (from torch>=1.10.0->accelerate>=0.26.0) (11.8.89)\n",
      "Requirement already satisfied: nvidia-cuda-cupti-cu11==11.8.87 in /home/rj2357/.local/lib/python3.9/site-packages (from torch>=1.10.0->accelerate>=0.26.0) (11.8.87)\n",
      "Requirement already satisfied: nvidia-cudnn-cu11==9.1.0.70 in /home/rj2357/.local/lib/python3.9/site-packages (from torch>=1.10.0->accelerate>=0.26.0) (9.1.0.70)\n",
      "Requirement already satisfied: nvidia-cublas-cu11==11.11.3.6 in /home/rj2357/.local/lib/python3.9/site-packages (from torch>=1.10.0->accelerate>=0.26.0) (11.11.3.6)\n",
      "Requirement already satisfied: nvidia-cufft-cu11==10.9.0.58 in /home/rj2357/.local/lib/python3.9/site-packages (from torch>=1.10.0->accelerate>=0.26.0) (10.9.0.58)\n",
      "Requirement already satisfied: nvidia-curand-cu11==10.3.0.86 in /home/rj2357/.local/lib/python3.9/site-packages (from torch>=1.10.0->accelerate>=0.26.0) (10.3.0.86)\n",
      "Requirement already satisfied: nvidia-cusolver-cu11==11.4.1.48 in /home/rj2357/.local/lib/python3.9/site-packages (from torch>=1.10.0->accelerate>=0.26.0) (11.4.1.48)\n",
      "Requirement already satisfied: nvidia-cusparse-cu11==11.7.5.86 in /home/rj2357/.local/lib/python3.9/site-packages (from torch>=1.10.0->accelerate>=0.26.0) (11.7.5.86)\n",
      "Requirement already satisfied: nvidia-nccl-cu11==2.21.5 in /home/rj2357/.local/lib/python3.9/site-packages (from torch>=1.10.0->accelerate>=0.26.0) (2.21.5)\n",
      "Requirement already satisfied: nvidia-nvtx-cu11==11.8.86 in /home/rj2357/.local/lib/python3.9/site-packages (from torch>=1.10.0->accelerate>=0.26.0) (11.8.86)\n",
      "Requirement already satisfied: triton==3.1.0 in /home/rj2357/.local/lib/python3.9/site-packages (from torch>=1.10.0->accelerate>=0.26.0) (3.1.0)\n",
      "Requirement already satisfied: sympy==1.13.1 in /home/rj2357/.local/lib/python3.9/site-packages (from torch>=1.10.0->accelerate>=0.26.0) (1.13.1)\n",
      "Requirement already satisfied: mpmath<1.4,>=1.1.0 in /home/rj2357/.local/lib/python3.9/site-packages (from sympy==1.13.1->torch>=1.10.0->accelerate>=0.26.0) (1.3.0)\n",
      "Requirement already satisfied: MarkupSafe>=2.0 in /share/apps/pyenv/py3.9/lib/python3.9/site-packages (from jinja2->torch>=1.10.0->accelerate>=0.26.0) (2.1.4)\n",
      "Requirement already satisfied: charset-normalizer<4,>=2 in /share/apps/pyenv/py3.9/lib/python3.9/site-packages (from requests->huggingface-hub>=0.21.0->accelerate>=0.26.0) (3.3.2)\n",
      "Requirement already satisfied: idna<4,>=2.5 in /share/apps/pyenv/py3.9/lib/python3.9/site-packages (from requests->huggingface-hub>=0.21.0->accelerate>=0.26.0) (2.10)\n",
      "Requirement already satisfied: urllib3<3,>=1.21.1 in /share/apps/pyenv/py3.9/lib/python3.9/site-packages (from requests->huggingface-hub>=0.21.0->accelerate>=0.26.0) (1.26.6)\n",
      "Requirement already satisfied: certifi>=2017.4.17 in /share/apps/pyenv/py3.9/lib/python3.9/site-packages (from requests->huggingface-hub>=0.21.0->accelerate>=0.26.0) (2024.2.2)\n",
      "Using cached accelerate-1.2.1-py3-none-any.whl (336 kB)\n",
      "Installing collected packages: accelerate\n",
      "\u001b[33m  WARNING: The scripts accelerate, accelerate-config, accelerate-estimate-memory, accelerate-launch and accelerate-merge-weights are installed in '/home/rj2357/.local/bin' which is not on PATH.\n",
      "  Consider adding this directory to PATH or, if you prefer to suppress this warning, use --no-warn-script-location.\u001b[0m\u001b[33m\n",
      "\u001b[0mSuccessfully installed accelerate-1.2.1\n"
     ]
    }
   ],
   "source": [
    "!pip install 'accelerate>=0.26.0'"
   ]
  },
  {
   "cell_type": "code",
   "execution_count": 6,
   "id": "e0b75206-725b-4a1d-b1b9-3bc3cdb28ab2",
   "metadata": {},
   "outputs": [
    {
     "name": "stdout",
     "output_type": "stream",
     "text": [
      "Defaulting to user installation because normal site-packages is not writeable\n",
      "Collecting peft\n",
      "  Using cached peft-0.14.0-py3-none-any.whl.metadata (13 kB)\n",
      "Requirement already satisfied: numpy>=1.17 in /home/rj2357/.local/lib/python3.9/site-packages (from peft) (2.0.2)\n",
      "Requirement already satisfied: packaging>=20.0 in /share/apps/pyenv/py3.9/lib/python3.9/site-packages (from peft) (23.2)\n",
      "Requirement already satisfied: psutil in /share/apps/pyenv/py3.9/lib/python3.9/site-packages (from peft) (5.9.8)\n",
      "Requirement already satisfied: pyyaml in /share/apps/pyenv/py3.9/lib/python3.9/site-packages (from peft) (6.0.1)\n",
      "Requirement already satisfied: torch>=1.13.0 in /home/rj2357/.local/lib/python3.9/site-packages (from peft) (2.5.1+cu118)\n",
      "Requirement already satisfied: transformers in /home/rj2357/.local/lib/python3.9/site-packages (from peft) (4.46.3)\n",
      "Requirement already satisfied: tqdm in /share/apps/pyenv/py3.9/lib/python3.9/site-packages (from peft) (4.61.2)\n",
      "Requirement already satisfied: accelerate>=0.21.0 in /home/rj2357/.local/lib/python3.9/site-packages (from peft) (1.2.1)\n",
      "Requirement already satisfied: safetensors in /home/rj2357/.local/lib/python3.9/site-packages (from peft) (0.4.5)\n",
      "Requirement already satisfied: huggingface-hub>=0.25.0 in /home/rj2357/.local/lib/python3.9/site-packages (from peft) (0.26.5)\n",
      "Requirement already satisfied: filelock in /home/rj2357/.local/lib/python3.9/site-packages (from huggingface-hub>=0.25.0->peft) (3.13.1)\n",
      "Requirement already satisfied: fsspec>=2023.5.0 in /home/rj2357/.local/lib/python3.9/site-packages (from huggingface-hub>=0.25.0->peft) (2024.2.0)\n",
      "Requirement already satisfied: requests in /home/rj2357/.local/lib/python3.9/site-packages (from huggingface-hub>=0.25.0->peft) (2.32.3)\n",
      "Requirement already satisfied: typing-extensions>=3.7.4.3 in /share/apps/pyenv/py3.9/lib/python3.9/site-packages (from huggingface-hub>=0.25.0->peft) (4.9.0)\n",
      "Requirement already satisfied: networkx in /home/rj2357/.local/lib/python3.9/site-packages (from torch>=1.13.0->peft) (3.2.1)\n",
      "Requirement already satisfied: jinja2 in /share/apps/pyenv/py3.9/lib/python3.9/site-packages (from torch>=1.13.0->peft) (3.1.3)\n",
      "Requirement already satisfied: nvidia-cuda-nvrtc-cu11==11.8.89 in /home/rj2357/.local/lib/python3.9/site-packages (from torch>=1.13.0->peft) (11.8.89)\n",
      "Requirement already satisfied: nvidia-cuda-runtime-cu11==11.8.89 in /home/rj2357/.local/lib/python3.9/site-packages (from torch>=1.13.0->peft) (11.8.89)\n",
      "Requirement already satisfied: nvidia-cuda-cupti-cu11==11.8.87 in /home/rj2357/.local/lib/python3.9/site-packages (from torch>=1.13.0->peft) (11.8.87)\n",
      "Requirement already satisfied: nvidia-cudnn-cu11==9.1.0.70 in /home/rj2357/.local/lib/python3.9/site-packages (from torch>=1.13.0->peft) (9.1.0.70)\n",
      "Requirement already satisfied: nvidia-cublas-cu11==11.11.3.6 in /home/rj2357/.local/lib/python3.9/site-packages (from torch>=1.13.0->peft) (11.11.3.6)\n",
      "Requirement already satisfied: nvidia-cufft-cu11==10.9.0.58 in /home/rj2357/.local/lib/python3.9/site-packages (from torch>=1.13.0->peft) (10.9.0.58)\n",
      "Requirement already satisfied: nvidia-curand-cu11==10.3.0.86 in /home/rj2357/.local/lib/python3.9/site-packages (from torch>=1.13.0->peft) (10.3.0.86)\n",
      "Requirement already satisfied: nvidia-cusolver-cu11==11.4.1.48 in /home/rj2357/.local/lib/python3.9/site-packages (from torch>=1.13.0->peft) (11.4.1.48)\n",
      "Requirement already satisfied: nvidia-cusparse-cu11==11.7.5.86 in /home/rj2357/.local/lib/python3.9/site-packages (from torch>=1.13.0->peft) (11.7.5.86)\n",
      "Requirement already satisfied: nvidia-nccl-cu11==2.21.5 in /home/rj2357/.local/lib/python3.9/site-packages (from torch>=1.13.0->peft) (2.21.5)\n",
      "Requirement already satisfied: nvidia-nvtx-cu11==11.8.86 in /home/rj2357/.local/lib/python3.9/site-packages (from torch>=1.13.0->peft) (11.8.86)\n",
      "Requirement already satisfied: triton==3.1.0 in /home/rj2357/.local/lib/python3.9/site-packages (from torch>=1.13.0->peft) (3.1.0)\n",
      "Requirement already satisfied: sympy==1.13.1 in /home/rj2357/.local/lib/python3.9/site-packages (from torch>=1.13.0->peft) (1.13.1)\n",
      "Requirement already satisfied: mpmath<1.4,>=1.1.0 in /home/rj2357/.local/lib/python3.9/site-packages (from sympy==1.13.1->torch>=1.13.0->peft) (1.3.0)\n",
      "Requirement already satisfied: regex!=2019.12.17 in /home/rj2357/.local/lib/python3.9/site-packages (from transformers->peft) (2024.11.6)\n",
      "Requirement already satisfied: tokenizers<0.21,>=0.20 in /home/rj2357/.local/lib/python3.9/site-packages (from transformers->peft) (0.20.3)\n",
      "Requirement already satisfied: MarkupSafe>=2.0 in /share/apps/pyenv/py3.9/lib/python3.9/site-packages (from jinja2->torch>=1.13.0->peft) (2.1.4)\n",
      "Requirement already satisfied: charset-normalizer<4,>=2 in /share/apps/pyenv/py3.9/lib/python3.9/site-packages (from requests->huggingface-hub>=0.25.0->peft) (3.3.2)\n",
      "Requirement already satisfied: idna<4,>=2.5 in /share/apps/pyenv/py3.9/lib/python3.9/site-packages (from requests->huggingface-hub>=0.25.0->peft) (2.10)\n",
      "Requirement already satisfied: urllib3<3,>=1.21.1 in /share/apps/pyenv/py3.9/lib/python3.9/site-packages (from requests->huggingface-hub>=0.25.0->peft) (1.26.6)\n",
      "Requirement already satisfied: certifi>=2017.4.17 in /share/apps/pyenv/py3.9/lib/python3.9/site-packages (from requests->huggingface-hub>=0.25.0->peft) (2024.2.2)\n",
      "Using cached peft-0.14.0-py3-none-any.whl (374 kB)\n",
      "Installing collected packages: peft\n",
      "Successfully installed peft-0.14.0\n"
     ]
    }
   ],
   "source": [
    "!pip install peft"
   ]
  },
  {
   "cell_type": "code",
   "execution_count": 2,
   "id": "19668e6e-1b14-41ac-ab6c-31eed3cf5c92",
   "metadata": {},
   "outputs": [
    {
     "name": "stdout",
     "output_type": "stream",
     "text": [
      " 30911_dls.err\t __pycache__\t\t\t   run.sh\n",
      " 30911_dls.out\t config.py\t\t\t   student1_model\n",
      "'=0.15.0'\t datasets\t\t\t   student1_trainer.py\n",
      "'=0.16.0'\t eval.py\t\t\t   student2_model\n",
      "'=0.4.0'\t gemma-math-reasoning-lora\t   test.jsonl\n",
      "'=1.13.0'\t gemma-math-reasoning-lora-final   trainer.py\n",
      "'=1.21.0'\t logs\t\t\t\t   wandb\n",
      "'=4.30.0'\t results\n"
     ]
    }
   ],
   "source": [
    "!ls"
   ]
  },
  {
   "cell_type": "code",
   "execution_count": 7,
   "id": "4ded9f28-ff80-4cec-a218-12fae039e1a3",
   "metadata": {},
   "outputs": [],
   "source": [
    "import torch\n",
    "from transformers import AutoTokenizer, AutoModelForCausalLM\n",
    "from peft import PeftModel"
   ]
  },
  {
   "cell_type": "code",
   "execution_count": 8,
   "id": "812b349d-98f1-42f8-bd85-685e997033d7",
   "metadata": {},
   "outputs": [
    {
     "name": "stdout",
     "output_type": "stream",
     "text": [
      "Loading the base model and tokenizer...\n"
     ]
    },
    {
     "data": {
      "application/json": {
       "ascii": false,
       "bar_format": null,
       "colour": null,
       "elapsed": 0.00527644157409668,
       "initial": 0,
       "n": 0,
       "ncols": null,
       "nrows": null,
       "postfix": null,
       "prefix": "Loading checkpoint shards",
       "rate": null,
       "total": 2,
       "unit": "it",
       "unit_divisor": 1000,
       "unit_scale": false
      },
      "application/vnd.jupyter.widget-view+json": {
       "model_id": "e256a83cdcca43f0a67c84dfe87b7b7b",
       "version_major": 2,
       "version_minor": 0
      },
      "text/plain": [
       "Loading checkpoint shards:   0%|          | 0/2 [00:00<?, ?it/s]"
      ]
     },
     "metadata": {},
     "output_type": "display_data"
    },
    {
     "name": "stdout",
     "output_type": "stream",
     "text": [
      "Loading LoRA adapter...\n"
     ]
    },
    {
     "data": {
      "text/plain": [
       "GemmaForCausalLM(\n",
       "  (model): GemmaModel(\n",
       "    (embed_tokens): Embedding(256000, 2048, padding_idx=0)\n",
       "    (layers): ModuleList(\n",
       "      (0-17): 18 x GemmaDecoderLayer(\n",
       "        (self_attn): GemmaSdpaAttention(\n",
       "          (q_proj): Linear(in_features=2048, out_features=2048, bias=False)\n",
       "          (k_proj): Linear(in_features=2048, out_features=256, bias=False)\n",
       "          (v_proj): Linear(in_features=2048, out_features=256, bias=False)\n",
       "          (o_proj): Linear(in_features=2048, out_features=2048, bias=False)\n",
       "          (rotary_emb): GemmaRotaryEmbedding()\n",
       "        )\n",
       "        (mlp): GemmaMLP(\n",
       "          (gate_proj): Linear(in_features=2048, out_features=16384, bias=False)\n",
       "          (up_proj): Linear(in_features=2048, out_features=16384, bias=False)\n",
       "          (down_proj): Linear(in_features=16384, out_features=2048, bias=False)\n",
       "          (act_fn): PytorchGELUTanh()\n",
       "        )\n",
       "        (input_layernorm): GemmaRMSNorm((2048,), eps=1e-06)\n",
       "        (post_attention_layernorm): GemmaRMSNorm((2048,), eps=1e-06)\n",
       "      )\n",
       "    )\n",
       "    (norm): GemmaRMSNorm((2048,), eps=1e-06)\n",
       "  )\n",
       "  (lm_head): Linear(in_features=2048, out_features=256000, bias=False)\n",
       ")"
      ]
     },
     "execution_count": 8,
     "metadata": {},
     "output_type": "execute_result"
    }
   ],
   "source": [
    "BASE_MODEL_DIR = \"google/gemma-2b\"  # Base model name from HuggingFace\n",
    "LORA_ADAPTER_DIR = \"models/gemma-math-reasoning-lora-final\"\n",
    "\n",
    "print(\"Loading the base model and tokenizer...\")\n",
    "tokenizer = AutoTokenizer.from_pretrained(BASE_MODEL_DIR, trust_remote_code=True)\n",
    "base_model = AutoModelForCausalLM.from_pretrained(\n",
    "    BASE_MODEL_DIR,\n",
    "    trust_remote_code=True,\n",
    "    device_map=\"auto\"\n",
    ")\n",
    "\n",
    "# Load LoRA adapter and merge it into the base model\n",
    "print(\"Loading LoRA adapter...\")\n",
    "model = PeftModel.from_pretrained(base_model, LORA_ADAPTER_DIR)\n",
    "model = model.merge_and_unload()  # Merge LoRA weights into the base model\n",
    "\n",
    "# Set to evaluation mode\n",
    "model.eval()\n",
    "device = \"cuda\" if torch.cuda.is_available() else \"cpu\"\n",
    "model.to(device)"
   ]
  },
  {
   "cell_type": "code",
   "execution_count": 9,
   "id": "76dfd796-45e4-43fa-86de-d6bbef645b2b",
   "metadata": {},
   "outputs": [],
   "source": [
    "def generate_prediction(model, tokenizer, question, max_length=512, temperature=0.7):\n",
    "    \"\"\"\n",
    "    Generates a step-by-step reasoning and answer for a given math question.\n",
    "    \"\"\"\n",
    "    input_text = f\"Question: {question}\\nLet's solve this step by step:\"\n",
    "    \n",
    "    # Tokenize input and move tensors to the appropriate device\n",
    "    inputs = tokenizer(input_text, return_tensors=\"pt\").to(device)\n",
    "    \n",
    "    # Generate output\n",
    "    with torch.no_grad():\n",
    "        outputs = model.generate(\n",
    "            **inputs,\n",
    "            max_length=max_length,\n",
    "            num_return_sequences=1,\n",
    "            temperature=temperature,\n",
    "            do_sample=True,\n",
    "            top_p=0.95,\n",
    "            pad_token_id=tokenizer.eos_token_id\n",
    "        )\n",
    "    \n",
    "    # Decode the output and return\n",
    "    reasoning_and_answer = tokenizer.decode(outputs[0], skip_special_tokens=True)\n",
    "    return reasoning_and_answer"
   ]
  },
  {
   "cell_type": "code",
   "execution_count": 13,
   "id": "7ba520e2-2780-459b-a33f-ba1df3f3ec33",
   "metadata": {},
   "outputs": [
    {
     "name": "stdout",
     "output_type": "stream",
     "text": [
      "Generated Response:\n",
      "Question: What is 15 multiplied by 4?\n",
      "Let's solve this step by step:Certainly! Let's solve this problem step by step, showing each calculation clearly and explaining the reasoning.\n",
      "\n",
      "### Step 1: Understand the Multiplication Operation\n",
      "The multiplication operation is the same as adding the numbers together multiple times. In this case, we need to add 15 and 4 five times.\n",
      "\n",
      "### Step 2: Perform the Multiplication\n",
      "Let's break down the multiplication step by step:\n",
      "\n",
      "1. **Multiply 15 by 4:**\n",
      "   \\[\n",
      "   15 \\times 4 = 15 + 15 + 15 + 15 + 15\n",
      "   \\]\n",
      "\n",
      "2. **Add these multiplications:**\n",
      "   - First, add 15 and 15:\n",
      "     \\[\n",
      "     15 + 15 = 30\n",
      "     \\]\n",
      "   - Next, add the result to 30:\n",
      "     \\[\n",
      "     30 + 15 = 45\n",
      "     \\]\n",
      "   - Add this to 45:\n",
      "     \\[\n",
      "     45 + 15 = 60\n",
      "     \\]\n",
      "   - Finally, add the result to 60:\n",
      "     \\[\n",
      "     60 + 15 = 75\n",
      "     \\]\n",
      "\n",
      "### Step 3: State the Final Answer\n",
      "The result of 15 multiplied by 4 is 75.\n",
      "\n",
      "### Summary\n",
      "- We multiplied 15 by 4 by adding 15 + 15 + 15 + 15 + 15 repeatedly.\n",
      "- The final result is 75.\n",
      "\n",
      "So, the answer is \\(\\boxed{75}\\).\n",
      "The answer is 75.00000000000000000000000000000000000000000000000000000000000000000000000000000000000000000000000000000000000000000000000000000000000000\n"
     ]
    }
   ],
   "source": [
    "question = \"What is 15 multiplied by 4?\"\n",
    "response = generate_prediction(model, tokenizer, question)\n",
    "print(\"Generated Response:\")\n",
    "print(response)"
   ]
  },
  {
   "cell_type": "code",
   "execution_count": 11,
   "id": "aaee1bd9-398e-4bf1-9fd4-ffb53d654f02",
   "metadata": {},
   "outputs": [
    {
     "name": "stdout",
     "output_type": "stream",
     "text": [
      "Generated Response:\n",
      "Question: Natalia sold clips to 48 of her friends in April, and then she sold half as many clips in May. How many clips did Natalia sell altogether in April and May??\n",
      "Let's solve this step by step:To solve this problem using algebra and mathematical notation, we can follow these steps:\n",
      "\n",
      "1. **Define the variables:**\n",
      "   - Let \\( A \\) represent the number of clips Natalia sold in April.\n",
      "   - Let \\( M \\) represent the number of clips Natalia sold in May.\n",
      "\n",
      "2. **Set up the equations based on the given information:**\n",
      "   - Natalia sold clips to 48 of her friends in April:\n",
      "     \\[\n",
      "     A = 48\n",
      "     \\]\n",
      "   - In May, she sold half as many clips as she did in April:\n",
      "     \\[\n",
      "     M = \\frac{A}{2}\n",
      "     \\]\n",
      "\n",
      "3. **Substitute the value of \\( A \\) into the equation for \\( M \\):**\n",
      "   - Since \\( A = 48 \\):\n",
      "     \\[\n",
      "     M = \\frac{48}{2} = 24\n",
      "     \\]\n",
      "\n",
      "4. **Calculate the total number of clips sold in April and May:**\n",
      "   - The total number of clips sold is the sum of the clips sold in April and May:\n",
      "     \\[\n",
      "     \\text{Total} = A + M = 48 + 24\n",
      "     \\]\n",
      "\n",
      "5. **Perform the addition:**\n",
      "   - Calculate the total:\n",
      "     \\[\n",
      "     \\text{Total} = 48 + 24 = 72\n",
      "     \\]\n",
      "\n",
      "Therefore, Natalia sold a total of 72 clips in April and May.\n",
      "The answer is 72.0.0.0.0.0.0.0.0.0.0.0.0.0.0.0.0.0.0.0.0.0.0.0.0.0.0.0.0.0.0.0.0.0.0.0.0.0.0.0.0.0.0.0.0.0.0.0.0.0.0.0.0.0.0.0.0.0.0.0.0.0.0.0.0.0.0.0.0.0.0.0.0\n"
     ]
    }
   ],
   "source": [
    "question = \"Natalia sold clips to 48 of her friends in April, and then she sold half as many clips in May. How many clips did Natalia sell altogether in April and May??\"\n",
    "response = generate_prediction(model, tokenizer, question)\n",
    "print(\"Generated Response:\")\n",
    "print(response)"
   ]
  },
  {
   "cell_type": "code",
   "execution_count": null,
   "id": "aa81e7a0-20a9-4b7e-b503-000547ad89b3",
   "metadata": {},
   "outputs": [],
   "source": []
  }
 ],
 "metadata": {
  "kernelspec": {
   "display_name": "Python 3 (ipykernel)",
   "language": "python",
   "name": "python3"
  },
  "language_info": {
   "codemirror_mode": {
    "name": "ipython",
    "version": 3
   },
   "file_extension": ".py",
   "mimetype": "text/x-python",
   "name": "python",
   "nbconvert_exporter": "python",
   "pygments_lexer": "ipython3",
   "version": "3.9.18"
  }
 },
 "nbformat": 4,
 "nbformat_minor": 5
}
