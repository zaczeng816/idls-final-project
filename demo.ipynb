{
 "cells": [
  {
   "cell_type": "code",
   "execution_count": 1,
   "id": "7ed9b3b3-89bb-44be-b01b-bd3be2002948",
   "metadata": {},
   "outputs": [
    {
     "name": "stdout",
     "output_type": "stream",
     "text": [
      "Loading models... This may take a few minutes.\n"
     ]
    },
    {
     "name": "stderr",
     "output_type": "stream",
     "text": [
      "`config.hidden_act` is ignored, you should use `config.hidden_activation` instead.\n",
      "Gemma's activation function will be set to `gelu_pytorch_tanh`. Please, use\n",
      "`config.hidden_activation` if you want to override this behaviour.\n",
      "See https://github.com/huggingface/transformers/pull/29402 for more details.\n"
     ]
    },
    {
     "data": {
      "application/json": {
       "ascii": false,
       "bar_format": null,
       "colour": null,
       "elapsed": 0.00746464729309082,
       "initial": 0,
       "n": 0,
       "ncols": null,
       "nrows": null,
       "postfix": null,
       "prefix": "Loading checkpoint shards",
       "rate": null,
       "total": 2,
       "unit": "it",
       "unit_divisor": 1000,
       "unit_scale": false
      },
      "application/vnd.jupyter.widget-view+json": {
       "model_id": "e36d8195a631410a99aababbb844813c",
       "version_major": 2,
       "version_minor": 0
      },
      "text/plain": [
       "Loading checkpoint shards:   0%|          | 0/2 [00:00<?, ?it/s]"
      ]
     },
     "metadata": {},
     "output_type": "display_data"
    },
    {
     "data": {
      "application/json": {
       "ascii": false,
       "bar_format": null,
       "colour": null,
       "elapsed": 0.004821062088012695,
       "initial": 0,
       "n": 0,
       "ncols": null,
       "nrows": null,
       "postfix": null,
       "prefix": "Loading checkpoint shards",
       "rate": null,
       "total": 3,
       "unit": "it",
       "unit_divisor": 1000,
       "unit_scale": false
      },
      "application/vnd.jupyter.widget-view+json": {
       "model_id": "ed2f4b178cd64f48b95c6f9c78ac6d6a",
       "version_major": 2,
       "version_minor": 0
      },
      "text/plain": [
       "Loading checkpoint shards:   0%|          | 0/3 [00:00<?, ?it/s]"
      ]
     },
     "metadata": {},
     "output_type": "display_data"
    },
    {
     "name": "stdout",
     "output_type": "stream",
     "text": [
      "Models loaded successfully!\n"
     ]
    },
    {
     "data": {
      "application/vnd.jupyter.widget-view+json": {
       "model_id": "46f0bc6fe1be4d08a24e296fa0d784b3",
       "version_major": 2,
       "version_minor": 0
      },
      "text/plain": [
       "VBox(children=(Textarea(value='', description='Question:', layout=Layout(height='100px', width='100%'), placeh…"
      ]
     },
     "metadata": {},
     "output_type": "display_data"
    }
   ],
   "source": [
    "import json\n",
    "import torch\n",
    "from transformers import AutoModelForCausalLM, AutoTokenizer\n",
    "from peft import PeftModel\n",
    "import numpy as np\n",
    "import ipywidgets as widgets\n",
    "from IPython.display import display, clear_output\n",
    "\n",
    "# Function to load models\n",
    "def load_models():\n",
    "    BASE_MODEL_DIR = \"google/gemma-2b\"\n",
    "    LORA_ADAPTER_DIR = \"models/gemma-math-reasoning-lora-final\"\n",
    "    \n",
    "    tokenizer = AutoTokenizer.from_pretrained(BASE_MODEL_DIR, trust_remote_code=True)\n",
    "    base_model = AutoModelForCausalLM.from_pretrained(\n",
    "        BASE_MODEL_DIR,\n",
    "        trust_remote_code=True,\n",
    "        device_map=\"auto\"\n",
    "    )\n",
    "    generator = PeftModel.from_pretrained(base_model, LORA_ADAPTER_DIR)\n",
    "    generator = generator.merge_and_unload()\n",
    "    generator.eval()\n",
    "    \n",
    "    scorer = AutoModelForCausalLM.from_pretrained(\n",
    "        \"models/checkpoint-2000\",\n",
    "        trust_remote_code=True,\n",
    "        device_map=\"auto\"\n",
    "    )\n",
    "    scorer.eval()\n",
    "    \n",
    "    return generator, scorer, tokenizer\n",
    "\n",
    "# Function to generate answers\n",
    "def generate_answers(model, tokenizer, question, num_samples=3, max_length=1024):\n",
    "    answers = []\n",
    "    prompt = f\"Question: {question}\\nLet's solve this step by step:\"\n",
    "    \n",
    "    input_ids = tokenizer(prompt, return_tensors=\"pt\").input_ids.cuda()\n",
    "    \n",
    "    for _ in range(num_samples):\n",
    "        outputs = model.generate(\n",
    "            input_ids,\n",
    "            max_length=max_length,\n",
    "            temperature=0.7,\n",
    "            do_sample=True,\n",
    "            pad_token_id=tokenizer.pad_token_id,\n",
    "            num_return_sequences=1\n",
    "        )\n",
    "        answer = tokenizer.decode(outputs[0], skip_special_tokens=True)\n",
    "        answers.append(answer)\n",
    "    return answers\n",
    "\n",
    "# Function to score an answer\n",
    "def score_answer(model, tokenizer, question, answer):\n",
    "    prompt = f\"Question: {question}\\nReasoning: {answer}\\nRate how likely this reasoning is correct:\"\n",
    "    input_ids = tokenizer(prompt, return_tensors=\"pt\").input_ids.cuda()\n",
    "    \n",
    "    with torch.no_grad():\n",
    "        outputs = model(input_ids)\n",
    "        logits = outputs.logits\n",
    "    final_logits = logits[0, -1]\n",
    "    score = torch.softmax(final_logits, dim=0).max().item()\n",
    "    return score\n",
    "\n",
    "# Load models (may take a while)\n",
    "print(\"Loading models... This may take a few minutes.\")\n",
    "generator, scorer, tokenizer = load_models()\n",
    "print(\"Models loaded successfully!\")\n",
    "\n",
    "# Widgets for the interface\n",
    "question_input = widgets.Textarea(\n",
    "    placeholder=\"Type your question here...\",\n",
    "    description=\"Question:\",\n",
    "    layout=widgets.Layout(width='100%', height='100px')\n",
    ")\n",
    "\n",
    "num_samples_input = widgets.IntSlider(\n",
    "    value=3, min=1, max=10, step=1, description=\"Samples:\"\n",
    ")\n",
    "\n",
    "generate_button = widgets.Button(description=\"Generate Solutions\")\n",
    "output_area = widgets.Output()\n",
    "\n",
    "# Function to handle button click\n",
    "def on_generate_clicked(b):\n",
    "    output_area.clear_output()\n",
    "    question = question_input.value\n",
    "    num_samples = num_samples_input.value\n",
    "    \n",
    "    if not question.strip():\n",
    "        with output_area:\n",
    "            print(\"Please enter a valid question!\")\n",
    "        return\n",
    "    \n",
    "    with output_area:\n",
    "        print(\"Generating solutions... Please wait.\")\n",
    "    \n",
    "    # Generate solutions\n",
    "    answers = generate_answers(generator, tokenizer, question, num_samples)\n",
    "    \n",
    "    # Display solutions and scores\n",
    "    with output_area:\n",
    "        print(\"\\nGenerated Solutions:\\n\")\n",
    "        for i, ans in enumerate(answers, 1):\n",
    "            score = score_answer(scorer, tokenizer, question, ans)\n",
    "            print(f\"Solution {i} (Score: {score:.2f}):\\n{ans}\\n\")\n",
    "\n",
    "# Link button click to function\n",
    "generate_button.on_click(on_generate_clicked)\n",
    "\n",
    "# Display the interface\n",
    "display(widgets.VBox([\n",
    "    question_input,\n",
    "    num_samples_input,\n",
    "    generate_button,\n",
    "    output_area\n",
    "]))\n"
   ]
  },
  {
   "cell_type": "markdown",
   "id": "fe938c97-54b0-4c39-bda8-3408de1f4277",
   "metadata": {},
   "source": [
    "### Model Performance on a Question\n",
    "\n",
    "The **ground truth** for this question is **7**. The model generates **5 solutions**, each with associated scores and correctness:\n",
    "\n",
    "| Solution      | Score | Correctness |\n",
    "|---------------|-------|-------------|\n",
    "| **Solution 1** | 0.59  | Incorrect   |\n",
    "| **Solution 2** | 0.61  | Incorrect   |\n",
    "| **Solution 3** | 0.71  | Correct     |\n",
    "| **Solution 4** | 0.69  | Correct     |\n",
    "| **Solution 5** | 0.71  | Correct     |\n",
    "\n",
    "---\n",
    "\n",
    "**Key Observations**:\n",
    "- Solutions 3, 4, and 5 are correct, achieving higher scores (≥ 0.69).\n",
    "- Lower scores, such as 0.59 and 0.61, correspond to incorrect solutions."
   ]
  },
  {
   "cell_type": "code",
   "execution_count": null,
   "id": "16e1ab83-46a6-4f5c-9c5d-506c12d61026",
   "metadata": {},
   "outputs": [],
   "source": []
  }
 ],
 "metadata": {
  "kernelspec": {
   "display_name": "Python 3 (ipykernel)",
   "language": "python",
   "name": "python3"
  },
  "language_info": {
   "codemirror_mode": {
    "name": "ipython",
    "version": 3
   },
   "file_extension": ".py",
   "mimetype": "text/x-python",
   "name": "python",
   "nbconvert_exporter": "python",
   "pygments_lexer": "ipython3",
   "version": "3.9.18"
  }
 },
 "nbformat": 4,
 "nbformat_minor": 5
}
